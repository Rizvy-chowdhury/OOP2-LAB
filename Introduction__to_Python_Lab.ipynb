{
  "nbformat": 4,
  "nbformat_minor": 0,
  "metadata": {
    "colab": {
      "name": "Copy of Week_1_Introduction__to_Python_Lab.ipynb",
      "provenance": [],
      "include_colab_link": true
    },
    "kernelspec": {
      "name": "python3",
      "display_name": "Python 3"
    }
  },
  "cells": [
    {
      "cell_type": "markdown",
      "metadata": {
        "id": "view-in-github",
        "colab_type": "text"
      },
      "source": [
        "<a href=\"https://colab.research.google.com/github/Rizvy-chowdhury/OOP2-LAB/blob/main/Introduction__to_Python_Lab.ipynb\" target=\"_parent\"><img src=\"https://colab.research.google.com/assets/colab-badge.svg\" alt=\"Open In Colab\"/></a>"
      ]
    },
    {
      "cell_type": "markdown",
      "metadata": {
        "id": "UJJq0DyVg8I5"
      },
      "source": [
        "# **My Python First Program \"Print HeLLo World\"**\n",
        "\n",
        "---\n",
        "\n"
      ]
    },
    {
      "cell_type": "code",
      "metadata": {
        "id": "F-kYUN7s0AbU",
        "outputId": "ed22ba94-9296-477e-ecde-2ce6ad552e6d",
        "colab": {
          "base_uri": "https://localhost:8080/",
          "height": 34
        }
      },
      "source": [
        "print(\"My Name is Rizvy\")"
      ],
      "execution_count": 3,
      "outputs": [
        {
          "output_type": "stream",
          "text": [
            "My Name is Rizvy\n"
          ],
          "name": "stdout"
        }
      ]
    },
    {
      "cell_type": "markdown",
      "metadata": {
        "id": "DbN1-jwxg_Uz"
      },
      "source": [
        "# **Variables and Assignment Statements**\n",
        "\n",
        "---\n",
        "\n"
      ]
    },
    {
      "cell_type": "code",
      "metadata": {
        "id": "7y-Tt0FU0KGW"
      },
      "source": [
        ""
      ],
      "execution_count": null,
      "outputs": []
    },
    {
      "cell_type": "code",
      "metadata": {
        "id": "qg4HmHdtxuP8",
        "outputId": "a8c52ab6-9f9a-44cb-f609-3fc017f1c598",
        "colab": {
          "base_uri": "https://localhost:8080/",
          "height": 34
        }
      },
      "source": [
        "a=14\n",
        "b=3\n",
        "print(a+b)"
      ],
      "execution_count": 4,
      "outputs": [
        {
          "output_type": "stream",
          "text": [
            "17\n"
          ],
          "name": "stdout"
        }
      ]
    },
    {
      "cell_type": "code",
      "metadata": {
        "id": "6GCg41RshUaU",
        "outputId": "cd274cbe-d0a4-4b5a-945f-4a63964d7c17",
        "colab": {
          "base_uri": "https://localhost:8080/",
          "height": 34
        }
      },
      "source": [
        "total = a+b\n",
        "print(total)"
      ],
      "execution_count": 5,
      "outputs": [
        {
          "output_type": "stream",
          "text": [
            "17\n"
          ],
          "name": "stdout"
        }
      ]
    },
    {
      "cell_type": "code",
      "metadata": {
        "id": "as_Y45lGiOqV",
        "outputId": "7f8cff76-68f6-4de3-aa93-086b55be7fa2",
        "colab": {
          "base_uri": "https://localhost:8080/",
          "height": 34
        }
      },
      "source": [
        "name = \"Rizvy\"\n",
        "name2 = \"Tanzila\"\n",
        "print(name , name2)"
      ],
      "execution_count": 6,
      "outputs": [
        {
          "output_type": "stream",
          "text": [
            "Rizvy Tanzila\n"
          ],
          "name": "stdout"
        }
      ]
    },
    {
      "cell_type": "markdown",
      "metadata": {
        "id": "Ni31KL61hT0i"
      },
      "source": [
        "# **Types**\n",
        "\n",
        "---\n",
        "\n"
      ]
    },
    {
      "cell_type": "code",
      "metadata": {
        "id": "oke7C20Viioe",
        "outputId": "867182f7-0993-4b9f-f2d6-2df21a8b6577",
        "colab": {
          "base_uri": "https://localhost:8080/",
          "height": 34
        }
      },
      "source": [
        "R =10.1111\n",
        "type(R)"
      ],
      "execution_count": 8,
      "outputs": [
        {
          "output_type": "execute_result",
          "data": {
            "text/plain": [
              "float"
            ]
          },
          "metadata": {
            "tags": []
          },
          "execution_count": 8
        }
      ]
    },
    {
      "cell_type": "code",
      "metadata": {
        "id": "xOJJ_57QipiH",
        "outputId": "620c9b41-5990-4f46-dedf-a00900c403af",
        "colab": {
          "base_uri": "https://localhost:8080/",
          "height": 34
        }
      },
      "source": [
        "type(555555)"
      ],
      "execution_count": 9,
      "outputs": [
        {
          "output_type": "execute_result",
          "data": {
            "text/plain": [
              "int"
            ]
          },
          "metadata": {
            "tags": []
          },
          "execution_count": 9
        }
      ]
    },
    {
      "cell_type": "code",
      "metadata": {
        "id": "9Lkp3pxxixbm",
        "outputId": "16f0e6da-489a-4c28-a8a2-ac3194218996",
        "colab": {
          "base_uri": "https://localhost:8080/",
          "height": 34
        }
      },
      "source": [
        "type(name)"
      ],
      "execution_count": 15,
      "outputs": [
        {
          "output_type": "execute_result",
          "data": {
            "text/plain": [
              "str"
            ]
          },
          "metadata": {
            "tags": []
          },
          "execution_count": 15
        }
      ]
    },
    {
      "cell_type": "markdown",
      "metadata": {
        "id": "9Y6a4iihi5sI"
      },
      "source": [
        "# **Arithmetic operators**\n",
        "\n",
        "---\n",
        "\n"
      ]
    },
    {
      "cell_type": "code",
      "metadata": {
        "id": "NIjoLulyizOG",
        "outputId": "25342513-a41d-4be7-8c61-b32178dc94f4",
        "colab": {
          "base_uri": "https://localhost:8080/",
          "height": 34
        }
      },
      "source": [
        " multiplication = 111*10\n",
        " print(multiplication)"
      ],
      "execution_count": 16,
      "outputs": [
        {
          "output_type": "stream",
          "text": [
            "1110\n"
          ],
          "name": "stdout"
        }
      ]
    },
    {
      "cell_type": "code",
      "metadata": {
        "id": "PxM6_sUGjXOv",
        "outputId": "8389efae-0898-4506-fdc9-2379101d2ce8",
        "colab": {
          "base_uri": "https://localhost:8080/",
          "height": 34
        }
      },
      "source": [
        "SUM = 10+100\n",
        "print(SUM)"
      ],
      "execution_count": 17,
      "outputs": [
        {
          "output_type": "stream",
          "text": [
            "110\n"
          ],
          "name": "stdout"
        }
      ]
    },
    {
      "cell_type": "code",
      "metadata": {
        "id": "scDBw7zjjiIH",
        "outputId": "f7e1b46b-37d9-4a5e-c591-b44029db438d",
        "colab": {
          "base_uri": "https://localhost:8080/",
          "height": 34
        }
      },
      "source": [
        "SUB = 14-3\n",
        "print(SUB)"
      ],
      "execution_count": 18,
      "outputs": [
        {
          "output_type": "stream",
          "text": [
            "11\n"
          ],
          "name": "stdout"
        }
      ]
    },
    {
      "cell_type": "code",
      "metadata": {
        "id": "7omshX93jm3n",
        "outputId": "a5c59cec-7a27-4693-a7ee-d608fe84bdc4",
        "colab": {
          "base_uri": "https://localhost:8080/",
          "height": 34
        }
      },
      "source": [
        "Exponentiation = 3**5\n",
        "print(Exponentiation)"
      ],
      "execution_count": 19,
      "outputs": [
        {
          "output_type": "stream",
          "text": [
            "243\n"
          ],
          "name": "stdout"
        }
      ]
    },
    {
      "cell_type": "markdown",
      "metadata": {
        "id": "1NtrfNzTkBtk"
      },
      "source": [
        "True Division (/) vs. Floor Division (//)"
      ]
    },
    {
      "cell_type": "code",
      "metadata": {
        "id": "9LAUD0saj24_",
        "outputId": "7a774af0-4f79-4aaf-a8da-a71291cce18f",
        "colab": {
          "base_uri": "https://localhost:8080/",
          "height": 34
        }
      },
      "source": [
        "Division = 55/4\n",
        "print(Division)"
      ],
      "execution_count": 21,
      "outputs": [
        {
          "output_type": "stream",
          "text": [
            "13.75\n"
          ],
          "name": "stdout"
        }
      ]
    },
    {
      "cell_type": "code",
      "metadata": {
        "id": "79gA8Z7vkO3o",
        "outputId": "bcd342aa-08e8-4dbe-f056-d63878faec67",
        "colab": {
          "base_uri": "https://localhost:8080/",
          "height": 34
        }
      },
      "source": [
        "Floor_Division = 7//6\n",
        "print(Floor_Division)"
      ],
      "execution_count": 22,
      "outputs": [
        {
          "output_type": "stream",
          "text": [
            "1\n"
          ],
          "name": "stdout"
        }
      ]
    },
    {
      "cell_type": "code",
      "metadata": {
        "id": "4LHWmh9gkf5n",
        "outputId": "5ba32d02-da13-4ace-a3ce-2d5170b7314e",
        "colab": {
          "base_uri": "https://localhost:8080/",
          "height": 34
        }
      },
      "source": [
        "remainder = 33%8\n",
        "print(remainder)"
      ],
      "execution_count": 23,
      "outputs": [
        {
          "output_type": "stream",
          "text": [
            "1\n"
          ],
          "name": "stdout"
        }
      ]
    },
    {
      "cell_type": "markdown",
      "metadata": {
        "id": "mpnLA1X0llVX"
      },
      "source": [
        "# **Relational Operators**\n",
        "\n",
        "---\n",
        "\n"
      ]
    },
    {
      "cell_type": "code",
      "metadata": {
        "id": "zyOV_Z4-l06D"
      },
      "source": [
        "x = 600\n",
        "y = 6000"
      ],
      "execution_count": 36,
      "outputs": []
    },
    {
      "cell_type": "code",
      "metadata": {
        "id": "QYIogwjbl1kb",
        "outputId": "b98a6301-d89c-4de2-c6bc-97d9715e35d1",
        "colab": {
          "base_uri": "https://localhost:8080/",
          "height": 34
        }
      },
      "source": [
        "x>y"
      ],
      "execution_count": 37,
      "outputs": [
        {
          "output_type": "execute_result",
          "data": {
            "text/plain": [
              "False"
            ]
          },
          "metadata": {
            "tags": []
          },
          "execution_count": 37
        }
      ]
    },
    {
      "cell_type": "code",
      "metadata": {
        "id": "k4TzTYm2l2Tn",
        "outputId": "bb74ccfa-fd62-4c1a-e8e4-3e8218c29fe6",
        "colab": {
          "base_uri": "https://localhost:8080/",
          "height": 34
        }
      },
      "source": [
        "x<y"
      ],
      "execution_count": 38,
      "outputs": [
        {
          "output_type": "execute_result",
          "data": {
            "text/plain": [
              "True"
            ]
          },
          "metadata": {
            "tags": []
          },
          "execution_count": 38
        }
      ]
    },
    {
      "cell_type": "code",
      "metadata": {
        "id": "n0V32Q-SmG6i",
        "outputId": "12d7c854-96dc-466d-9477-6917af5f4b26",
        "colab": {
          "base_uri": "https://localhost:8080/",
          "height": 34
        }
      },
      "source": [
        "x==y"
      ],
      "execution_count": 39,
      "outputs": [
        {
          "output_type": "execute_result",
          "data": {
            "text/plain": [
              "False"
            ]
          },
          "metadata": {
            "tags": []
          },
          "execution_count": 39
        }
      ]
    },
    {
      "cell_type": "code",
      "metadata": {
        "id": "kJJc69h8mG9W",
        "outputId": "44446ded-8779-4da9-c0ea-ab0be265414b",
        "colab": {
          "base_uri": "https://localhost:8080/",
          "height": 34
        }
      },
      "source": [
        "x!=y"
      ],
      "execution_count": 40,
      "outputs": [
        {
          "output_type": "execute_result",
          "data": {
            "text/plain": [
              "True"
            ]
          },
          "metadata": {
            "tags": []
          },
          "execution_count": 40
        }
      ]
    },
    {
      "cell_type": "code",
      "metadata": {
        "id": "85-ynPF1mHC2",
        "outputId": "773a6bf9-52eb-48f6-80ed-b59dc8e1cc03",
        "colab": {
          "base_uri": "https://localhost:8080/",
          "height": 34
        }
      },
      "source": [
        "x>=y"
      ],
      "execution_count": 41,
      "outputs": [
        {
          "output_type": "execute_result",
          "data": {
            "text/plain": [
              "False"
            ]
          },
          "metadata": {
            "tags": []
          },
          "execution_count": 41
        }
      ]
    },
    {
      "cell_type": "code",
      "metadata": {
        "id": "pQTyjZwXmHBD",
        "outputId": "5accff56-5307-41bf-ed49-ca9fb93f180d",
        "colab": {
          "base_uri": "https://localhost:8080/",
          "height": 34
        }
      },
      "source": [
        "x<=y"
      ],
      "execution_count": 42,
      "outputs": [
        {
          "output_type": "execute_result",
          "data": {
            "text/plain": [
              "True"
            ]
          },
          "metadata": {
            "tags": []
          },
          "execution_count": 42
        }
      ]
    },
    {
      "cell_type": "markdown",
      "metadata": {
        "id": "GN323jCNwLnj"
      },
      "source": [
        "Chaining Comparisons"
      ]
    },
    {
      "cell_type": "code",
      "metadata": {
        "id": "hlxRGBHtwNcJ"
      },
      "source": [
        "x = 3\n",
        "y = 10"
      ],
      "execution_count": 33,
      "outputs": []
    },
    {
      "cell_type": "code",
      "metadata": {
        "id": "JckxAimYwUnj",
        "outputId": "47028c1b-db82-4325-e31c-4f04d43b820e",
        "colab": {
          "base_uri": "https://localhost:8080/",
          "height": 34
        }
      },
      "source": [
        "1 <= x <= 5"
      ],
      "execution_count": 43,
      "outputs": [
        {
          "output_type": "execute_result",
          "data": {
            "text/plain": [
              "False"
            ]
          },
          "metadata": {
            "tags": []
          },
          "execution_count": 43
        }
      ]
    },
    {
      "cell_type": "code",
      "metadata": {
        "id": "_m8YjFPWwnYZ",
        "outputId": "7189f0e6-e301-433a-d8e2-c53057db0c28",
        "colab": {
          "base_uri": "https://localhost:8080/",
          "height": 34
        }
      },
      "source": [
        "1 <= y <= 5"
      ],
      "execution_count": 44,
      "outputs": [
        {
          "output_type": "execute_result",
          "data": {
            "text/plain": [
              "False"
            ]
          },
          "metadata": {
            "tags": []
          },
          "execution_count": 44
        }
      ]
    },
    {
      "cell_type": "markdown",
      "metadata": {
        "id": "Tc093ouolPJ2"
      },
      "source": [
        "# **Print Function**\n",
        "\n",
        "---\n",
        "\n"
      ]
    },
    {
      "cell_type": "markdown",
      "metadata": {
        "id": "j9SuPC1rnAnS"
      },
      "source": [
        "Printing a Comma-Separated List of Items"
      ]
    },
    {
      "cell_type": "code",
      "metadata": {
        "id": "zZu85344k-pv",
        "outputId": "5296e2c4-0a63-498d-cbf9-85d45186d939",
        "colab": {
          "base_uri": "https://localhost:8080/",
          "height": 34
        }
      },
      "source": [
        "print('I', 'am', 'Rizvy!')"
      ],
      "execution_count": 45,
      "outputs": [
        {
          "output_type": "stream",
          "text": [
            "I am Rizvy!\n"
          ],
          "name": "stdout"
        }
      ]
    },
    {
      "cell_type": "markdown",
      "metadata": {
        "id": "45uFWOzRnToS"
      },
      "source": [
        "Printing Many Lines of Text with One Statement"
      ]
    },
    {
      "cell_type": "code",
      "metadata": {
        "id": "-JpAQC6BnEvf",
        "outputId": "ce97c964-208b-4a18-b392-3b48e09d7517",
        "colab": {
          "base_uri": "https://localhost:8080/",
          "height": 85
        }
      },
      "source": [
        "print('I\\nam\\n\\nRizvy!')"
      ],
      "execution_count": 46,
      "outputs": [
        {
          "output_type": "stream",
          "text": [
            "I\n",
            "am\n",
            "\n",
            "Rizvy!\n"
          ],
          "name": "stdout"
        }
      ]
    },
    {
      "cell_type": "markdown",
      "metadata": {
        "id": "1MFAMjgTnk41"
      },
      "source": [
        "Ignoring a Line Break in a Long String"
      ]
    },
    {
      "cell_type": "code",
      "metadata": {
        "id": "3Hcf_xBjnZAw",
        "outputId": "3dce519e-0f48-48d5-a2e7-d1970d8a940f",
        "colab": {
          "base_uri": "https://localhost:8080/",
          "height": 34
        }
      },
      "source": [
        "print('this is a longer string, so we \\\n",
        " split it over two lines')"
      ],
      "execution_count": null,
      "outputs": [
        {
          "output_type": "stream",
          "text": [
            "this is a longer string, so we  split it over two lines\n"
          ],
          "name": "stdout"
        }
      ]
    },
    {
      "cell_type": "markdown",
      "metadata": {
        "id": "YhNzu1Hxn0jN"
      },
      "source": [
        "Printing the Value of an Expression"
      ]
    },
    {
      "cell_type": "code",
      "metadata": {
        "id": "4gzskSvCnsRj",
        "outputId": "81b56543-6cd2-4b90-9e8e-29bca809173c",
        "colab": {
          "base_uri": "https://localhost:8080/",
          "height": 34
        }
      },
      "source": [
        "print('Sum is', 10 + 30)"
      ],
      "execution_count": 47,
      "outputs": [
        {
          "output_type": "stream",
          "text": [
            "Sum is 40\n"
          ],
          "name": "stdout"
        }
      ]
    },
    {
      "cell_type": "markdown",
      "metadata": {
        "id": "alpAFbQ_paGM"
      },
      "source": [
        "What does the following print statement display?\n",
        "\n",
        "**print('int(5.2)', 'truncates 5.2 to', int(5.2))**"
      ]
    },
    {
      "cell_type": "code",
      "metadata": {
        "id": "M7c8lh-8n5LH",
        "outputId": "850b45a8-63e0-4a82-eb61-45ef03a36d77",
        "colab": {
          "base_uri": "https://localhost:8080/",
          "height": 34
        }
      },
      "source": [
        "print('int(5.2)', 'truncates 5.2 to', int(5.2))"
      ],
      "execution_count": null,
      "outputs": [
        {
          "output_type": "stream",
          "text": [
            "int(5.2) truncates 5.2 to 5\n"
          ],
          "name": "stdout"
        }
      ]
    },
    {
      "cell_type": "markdown",
      "metadata": {
        "id": "1XaCO4yhp2Fh"
      },
      "source": [
        "Including Quotes in Strings"
      ]
    },
    {
      "cell_type": "code",
      "metadata": {
        "id": "0n4YdMLNpo8q",
        "outputId": "bdec0ae7-fb66-4901-e76f-b730a1c2fbd4",
        "colab": {
          "base_uri": "https://localhost:8080/",
          "height": 34
        }
      },
      "source": [
        "print('Display \"hallow\" in quotes')"
      ],
      "execution_count": 50,
      "outputs": [
        {
          "output_type": "stream",
          "text": [
            "Display \"hallow\" in quotes\n"
          ],
          "name": "stdout"
        }
      ]
    },
    {
      "cell_type": "code",
      "metadata": {
        "id": "dks5HTI2qbBD",
        "outputId": "9c525d6a-8d9c-4243-c4c8-8a395f34e36d",
        "colab": {
          "base_uri": "https://localhost:8080/",
          "height": 34
        }
      },
      "source": [
        "print('Display \\'Hallow\\' in quotes')   "
      ],
      "execution_count": 51,
      "outputs": [
        {
          "output_type": "stream",
          "text": [
            "Display 'Hallow' in quotes\n"
          ],
          "name": "stdout"
        }
      ]
    },
    {
      "cell_type": "code",
      "metadata": {
        "id": "59Fmp73aq11h",
        "outputId": "79848d43-7e18-48af-a516-9b1a8fbd40d3",
        "colab": {
          "base_uri": "https://localhost:8080/",
          "height": 34
        }
      },
      "source": [
        "print(\"Display the name O'Brien\")"
      ],
      "execution_count": null,
      "outputs": [
        {
          "output_type": "stream",
          "text": [
            "Display the name O'Brien\n"
          ],
          "name": "stdout"
        }
      ]
    },
    {
      "cell_type": "code",
      "metadata": {
        "id": "p5yJgI0_q2Dh",
        "outputId": "3f7c931e-6bb9-44bd-b3db-db885e06ff6f",
        "colab": {
          "base_uri": "https://localhost:8080/",
          "height": 34
        }
      },
      "source": [
        "print(\"Display \\\"Hallow\\\" in quotes\")"
      ],
      "execution_count": 52,
      "outputs": [
        {
          "output_type": "stream",
          "text": [
            "Display \"Hallow\" in quotes\n"
          ],
          "name": "stdout"
        }
      ]
    },
    {
      "cell_type": "markdown",
      "metadata": {
        "id": "2tmbblbCp2TI"
      },
      "source": [
        "To avoid using \\' and \\\" inside strings, you can enclose such strings in triple quotes:"
      ]
    },
    {
      "cell_type": "code",
      "metadata": {
        "id": "myznCbzMrHDI",
        "outputId": "5bdeeb5c-b75c-407a-f21e-aa1668ecdb1b",
        "colab": {
          "base_uri": "https://localhost:8080/",
          "height": 34
        }
      },
      "source": [
        "print(\"\"\"Display \"hi\" and 'bye' in quotes\"\"\")"
      ],
      "execution_count": null,
      "outputs": [
        {
          "output_type": "stream",
          "text": [
            "Display \"hi\" and 'bye' in quotes\n"
          ],
          "name": "stdout"
        }
      ]
    },
    {
      "cell_type": "markdown",
      "metadata": {
        "id": "XETCna9wp2f2"
      },
      "source": [
        "Multiline Strings"
      ]
    },
    {
      "cell_type": "code",
      "metadata": {
        "id": "vo223kG9rRxy"
      },
      "source": [
        "triple_quoted_string = \"\"\"This is Rizvy\"\"\""
      ],
      "execution_count": 54,
      "outputs": []
    },
    {
      "cell_type": "code",
      "metadata": {
        "id": "g4RB-yLYrVs5",
        "outputId": "666c35d2-4d76-42ef-847d-bf8655f76acc",
        "colab": {
          "base_uri": "https://localhost:8080/",
          "height": 51
        }
      },
      "source": [
        "print(triple_quoted_string)"
      ],
      "execution_count": null,
      "outputs": [
        {
          "output_type": "stream",
          "text": [
            "This is a triple-quoted\n",
            "string that spans two lines\n"
          ],
          "name": "stdout"
        }
      ]
    },
    {
      "cell_type": "code",
      "metadata": {
        "id": "ncWZyiJorbMR",
        "outputId": "f13a716e-5c5f-43fb-deb7-04d86e0c73d3",
        "colab": {
          "base_uri": "https://localhost:8080/",
          "height": 35
        }
      },
      "source": [
        "triple_quoted_string"
      ],
      "execution_count": null,
      "outputs": [
        {
          "output_type": "execute_result",
          "data": {
            "application/vnd.google.colaboratory.intrinsic+json": {
              "type": "string"
            },
            "text/plain": [
              "'This is a triple-quoted\\nstring that spans two lines'"
            ]
          },
          "metadata": {
            "tags": []
          },
          "execution_count": 47
        }
      ]
    },
    {
      "cell_type": "code",
      "metadata": {
        "id": "qc-4KCearr5B",
        "outputId": "4973c9b7-b163-4ac0-f91d-cf066d62542a",
        "colab": {
          "base_uri": "https://localhost:8080/",
          "height": 34
        }
      },
      "source": [
        "print(\"\"\"This is Rizvy \\\n",
        "Chowdhury\"\"\")"
      ],
      "execution_count": 49,
      "outputs": [
        {
          "output_type": "stream",
          "text": [
            "This is Rizvy Chowdhury\n"
          ],
          "name": "stdout"
        }
      ]
    },
    {
      "cell_type": "markdown",
      "metadata": {
        "id": "qi1FgvUyKVqY"
      },
      "source": [
        "Precision Handling in Python"
      ]
    },
    {
      "cell_type": "code",
      "metadata": {
        "id": "b0JHoI0JKVT8"
      },
      "source": [
        "a = 3.4536475856"
      ],
      "execution_count": null,
      "outputs": []
    },
    {
      "cell_type": "code",
      "metadata": {
        "id": "kuJvceDlKqPQ",
        "outputId": "9451f8b6-82e9-4655-f2ec-7c2f4dc71ed2",
        "colab": {
          "base_uri": "https://localhost:8080/",
          "height": 34
        }
      },
      "source": [
        "# using \"%\" to print value till 2 decimal places  \n",
        "print (\"The value of number till 2 decimal place(using %) is : \",end=\"\") \n",
        "print ('%.2f' %a) "
      ],
      "execution_count": null,
      "outputs": [
        {
          "output_type": "stream",
          "text": [
            "The value of number till 2 decimal place(using %) is : 3.45\n"
          ],
          "name": "stdout"
        }
      ]
    },
    {
      "cell_type": "code",
      "metadata": {
        "id": "axTnYCpxK5tB",
        "outputId": "d14d2a36-c4cf-49ca-bb35-12599b8f671f",
        "colab": {
          "base_uri": "https://localhost:8080/",
          "height": 34
        }
      },
      "source": [
        "# using \"%\" to print value till 4 decimal places  \n",
        "print (\"The value of number till 2 decimal place(using %) is : \",end=\"\") \n",
        "print ('%.4f' %a)"
      ],
      "execution_count": null,
      "outputs": [
        {
          "output_type": "stream",
          "text": [
            "The value of number till 2 decimal place(using %) is : 3.4536\n"
          ],
          "name": "stdout"
        }
      ]
    },
    {
      "cell_type": "markdown",
      "metadata": {
        "id": "5cVJRxj9r-22"
      },
      "source": [
        "# **Getting Input from the User**\n",
        "The built-in input function requests and obtains user input:"
      ]
    },
    {
      "cell_type": "code",
      "metadata": {
        "id": "gJNp2c4Or7jU",
        "outputId": "7ce2ae9c-55ff-43a1-8196-f1b7e5a87efe",
        "colab": {
          "base_uri": "https://localhost:8080/",
          "height": 34
        }
      },
      "source": [
        "name = input(\"What's your name? \")"
      ],
      "execution_count": null,
      "outputs": [
        {
          "output_type": "stream",
          "text": [
            "What's your name? shifat\n"
          ],
          "name": "stdout"
        }
      ]
    },
    {
      "cell_type": "code",
      "metadata": {
        "id": "GYbU-E9Ysdxq",
        "outputId": "467bb790-9faf-46bd-84f7-3ca016800a2f",
        "colab": {
          "base_uri": "https://localhost:8080/",
          "height": 34
        }
      },
      "source": [
        "print(name)"
      ],
      "execution_count": null,
      "outputs": [
        {
          "output_type": "stream",
          "text": [
            "shifat\n"
          ],
          "name": "stdout"
        }
      ]
    },
    {
      "cell_type": "code",
      "metadata": {
        "id": "POY8NEimspCW",
        "outputId": "4af95356-8272-4c4c-a02e-dd067eebd51d",
        "colab": {
          "base_uri": "https://localhost:8080/",
          "height": 51
        }
      },
      "source": [
        "value1 = input('Enter first int: ')\n",
        "value2 = input('Enter second int: ')"
      ],
      "execution_count": 55,
      "outputs": [
        {
          "output_type": "stream",
          "text": [
            "Enter first int: 15\n",
            "Enter second int: 15\n"
          ],
          "name": "stdout"
        }
      ]
    },
    {
      "cell_type": "code",
      "metadata": {
        "id": "SxvaFVQvspQH",
        "outputId": "3b6c8700-c80c-4834-f12c-0f99fe9a5957",
        "colab": {
          "base_uri": "https://localhost:8080/",
          "height": 34
        }
      },
      "source": [
        "total = value1 + value2\n",
        "print(total)"
      ],
      "execution_count": 57,
      "outputs": [
        {
          "output_type": "stream",
          "text": [
            "1515\n"
          ],
          "name": "stdout"
        }
      ]
    },
    {
      "cell_type": "code",
      "metadata": {
        "id": "yvsClnwOsp4D",
        "outputId": "5b1c34f1-7269-4678-8d0a-b408d10987a8",
        "colab": {
          "base_uri": "https://localhost:8080/",
          "height": 34
        }
      },
      "source": [
        "type(total) "
      ],
      "execution_count": 58,
      "outputs": [
        {
          "output_type": "execute_result",
          "data": {
            "text/plain": [
              "str"
            ]
          },
          "metadata": {
            "tags": []
          },
          "execution_count": 58
        }
      ]
    },
    {
      "cell_type": "code",
      "metadata": {
        "id": "aZgwo8zLtnWs",
        "outputId": "449804c1-0741-4e7a-f295-9a722c0ff735",
        "colab": {
          "base_uri": "https://localhost:8080/",
          "height": 34
        }
      },
      "source": [
        "total = int(value1) + int(value2) \n",
        "print(total)   "
      ],
      "execution_count": null,
      "outputs": [
        {
          "output_type": "stream",
          "text": [
            "70\n"
          ],
          "name": "stdout"
        }
      ]
    },
    {
      "cell_type": "markdown",
      "metadata": {
        "id": "GYiauHj3r_DO"
      },
      "source": [
        "Getting an Integer from the User by casting the input format"
      ]
    },
    {
      "cell_type": "code",
      "metadata": {
        "id": "OdkR_jdWuOqQ",
        "outputId": "41f9e2b9-20cc-4d4d-b826-c89e9c64d04f",
        "colab": {
          "base_uri": "https://localhost:8080/",
          "height": 34
        }
      },
      "source": [
        "another_value = int(input('Enter another integer: '))"
      ],
      "execution_count": null,
      "outputs": [
        {
          "output_type": "stream",
          "text": [
            "Enter another integer: 10\n"
          ],
          "name": "stdout"
        }
      ]
    },
    {
      "cell_type": "code",
      "metadata": {
        "id": "K6mR1xrFuWFb",
        "outputId": "39154244-88f4-4623-8d1a-b4cdf5a16835",
        "colab": {
          "base_uri": "https://localhost:8080/",
          "height": 34
        }
      },
      "source": [
        "print(another_value)"
      ],
      "execution_count": null,
      "outputs": [
        {
          "output_type": "stream",
          "text": [
            "10\n"
          ],
          "name": "stdout"
        }
      ]
    },
    {
      "cell_type": "markdown",
      "metadata": {
        "id": "ieLg86vhvB72"
      },
      "source": [
        "**Taking multiple input from the user**"
      ]
    },
    {
      "cell_type": "code",
      "metadata": {
        "id": "-5dzapcNuaWK",
        "outputId": "52dcef8c-fe18-4b50-f25a-55a326d3ebb8",
        "colab": {
          "base_uri": "https://localhost:8080/",
          "height": 34
        }
      },
      "source": [
        "a, b = input().split()"
      ],
      "execution_count": null,
      "outputs": [
        {
          "output_type": "stream",
          "text": [
            "10 20\n"
          ],
          "name": "stdout"
        }
      ]
    },
    {
      "cell_type": "code",
      "metadata": {
        "id": "9vrLTTiTvekU",
        "outputId": "9a8d9d80-92c1-457f-b093-6b3a3ec048cc",
        "colab": {
          "base_uri": "https://localhost:8080/",
          "height": 34
        }
      },
      "source": [
        "print(a , b)"
      ],
      "execution_count": null,
      "outputs": [
        {
          "output_type": "stream",
          "text": [
            "10 20\n"
          ],
          "name": "stdout"
        }
      ]
    },
    {
      "cell_type": "code",
      "metadata": {
        "id": "xYKYc-r4vm5i",
        "outputId": "b8fc61d0-1ceb-4b4f-984c-2b0acff4d164",
        "colab": {
          "base_uri": "https://localhost:8080/",
          "height": 34
        }
      },
      "source": [
        "print(type(a))"
      ],
      "execution_count": null,
      "outputs": [
        {
          "output_type": "stream",
          "text": [
            "<class 'str'>\n"
          ],
          "name": "stdout"
        }
      ]
    },
    {
      "cell_type": "markdown",
      "metadata": {
        "id": "W4uhBhpNwGAP"
      },
      "source": [
        "# Solving Problem\n",
        "\n",
        "**Determining the Minimum and Maximum with Built-In Functions min and max**\n",
        "\n",
        "\n",
        "---\n",
        "\n"
      ]
    },
    {
      "cell_type": "code",
      "metadata": {
        "id": "1Ozwy-sXv11i",
        "outputId": "f84447cb-1168-470c-b6a0-f5a127dc6185",
        "colab": {
          "base_uri": "https://localhost:8080/",
          "height": 68
        }
      },
      "source": [
        "number1 = int(input('Enter first integer: '))\n",
        "number2 = int(input('Enter second integer: '))\n",
        "number3 = int(input('Enter third integer: '))"
      ],
      "execution_count": null,
      "outputs": [
        {
          "output_type": "stream",
          "text": [
            "Enter first integer: 20\n",
            "Enter second integer: 50\n",
            "Enter third integer: 100\n"
          ],
          "name": "stdout"
        }
      ]
    },
    {
      "cell_type": "code",
      "metadata": {
        "id": "QCbW8r0ax_gg",
        "outputId": "a307e714-165c-49ab-8843-d1e70a6220fd",
        "colab": {
          "base_uri": "https://localhost:8080/",
          "height": 34
        }
      },
      "source": [
        "min(number1,number2,number3)"
      ],
      "execution_count": null,
      "outputs": [
        {
          "output_type": "execute_result",
          "data": {
            "text/plain": [
              "20"
            ]
          },
          "metadata": {
            "tags": []
          },
          "execution_count": 70
        }
      ]
    },
    {
      "cell_type": "code",
      "metadata": {
        "id": "cJPEu86JyAAJ",
        "outputId": "d59e7e14-2e59-4eb5-eb06-abb43a39ac3a",
        "colab": {
          "base_uri": "https://localhost:8080/",
          "height": 34
        }
      },
      "source": [
        "max(number1,number2,number3)"
      ],
      "execution_count": null,
      "outputs": [
        {
          "output_type": "execute_result",
          "data": {
            "text/plain": [
              "100"
            ]
          },
          "metadata": {
            "tags": []
          },
          "execution_count": 71
        }
      ]
    },
    {
      "cell_type": "markdown",
      "metadata": {
        "id": "avdLbmSvyx19"
      },
      "source": [
        "#***Exercises***\n",
        "\n",
        "---\n",
        "\n",
        "\n",
        "\n",
        "**Create the variables x = 2 and y = 3, then determine what\n",
        "each of the following statements displays:**\n",
        "\n",
        "*  print('x =', x)\n",
        "*  print('Value of', x, '+', x, 'is', (x + x))\n",
        "*  print('x =')\n",
        "*  print((x + y), '=', (y + x))\n",
        "\n",
        "\n",
        "---\n",
        "\n"
      ]
    },
    {
      "cell_type": "code",
      "metadata": {
        "id": "Hd-yF5iY6LLt",
        "outputId": "88dfe8aa-961d-47e4-a8e4-d9b54d53411f",
        "colab": {
          "base_uri": "https://localhost:8080/",
          "height": 34
        }
      },
      "source": [
        "x = 2\n",
        "y = 3\n",
        "print('x =', x)"
      ],
      "execution_count": 59,
      "outputs": [
        {
          "output_type": "stream",
          "text": [
            "x = 2\n"
          ],
          "name": "stdout"
        }
      ]
    },
    {
      "cell_type": "code",
      "metadata": {
        "id": "pWude3MW6Um_",
        "outputId": "beae0461-ec3c-469a-dd1b-13651a335bf4",
        "colab": {
          "base_uri": "https://localhost:8080/",
          "height": 34
        }
      },
      "source": [
        "print('Value of', x, '+', x, 'is', (x + x))"
      ],
      "execution_count": 60,
      "outputs": [
        {
          "output_type": "stream",
          "text": [
            "Value of 2 + 2 is 4\n"
          ],
          "name": "stdout"
        }
      ]
    },
    {
      "cell_type": "code",
      "metadata": {
        "id": "6TgO1n9m6Zdb",
        "outputId": "bbcfad32-e5f2-42d0-8d19-470410ff3f74",
        "colab": {
          "base_uri": "https://localhost:8080/",
          "height": 34
        }
      },
      "source": [
        "print('x =')"
      ],
      "execution_count": 61,
      "outputs": [
        {
          "output_type": "stream",
          "text": [
            "x =\n"
          ],
          "name": "stdout"
        }
      ]
    },
    {
      "cell_type": "code",
      "metadata": {
        "id": "wLX100q56exp",
        "outputId": "a96d8452-3825-488f-d4ef-765bb3115b3e",
        "colab": {
          "base_uri": "https://localhost:8080/",
          "height": 34
        }
      },
      "source": [
        "print((x + y), '=', (y + x))"
      ],
      "execution_count": 62,
      "outputs": [
        {
          "output_type": "stream",
          "text": [
            "5 = 5\n"
          ],
          "name": "stdout"
        }
      ]
    }
  ]
}